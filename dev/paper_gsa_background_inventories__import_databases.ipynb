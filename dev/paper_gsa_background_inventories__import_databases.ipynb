{
 "cells": [
  {
   "cell_type": "code",
   "execution_count": null,
   "metadata": {},
   "outputs": [],
   "source": [
    "#     bw-migrations             0.1                      pypi_0    pypi\n",
    "#     bw2analyzer               0.10                     pypi_0    pypi\n",
    "#     bw2calc                   1.8.0                    pypi_0    pypi\n",
    "#     bw2data                   3.6.2                    pypi_0    pypi\n",
    "#     bw2io                     0.8.3.1                  pypi_0    pypi\n",
    "#     bw2parameters             0.6.6                    pypi_0    pypi\n",
    "\n",
    "import bw2data as bd\n",
    "import bw2calc as bc\n",
    "import bw2io as bi\n",
    "\n",
    "import numpy as np\n",
    "import json, os\n",
    "from pathlib import Path\n",
    "\n",
    "#Local files\n",
    "from import_databases import *\n",
    "\n",
    "with open('global_settings.json', 'rb') as f:\n",
    "    settings = json.load(f)\n",
    "which_pc = settings['which_pc']"
   ]
  },
  {
   "cell_type": "code",
   "execution_count": null,
   "metadata": {},
   "outputs": [],
   "source": [
    "# Define paths to databases\n",
    "\n",
    "if which_pc == 'local':\n",
    "    path_base = Path('/Users/akim/Documents/LCA_files/')\n",
    "elif which_pc == 'merlin':\n",
    "    path_base = Path('/data/user/kim_a/LCA_files/')\n",
    "    \n",
    "# Older databases\n",
    "ei33_path = path_base / 'ecoinvent_33_cutoff/datasets'  \n",
    "ex22_path = path_base / 'exiobase_22/mrIOT_IxI_fpa_coefficient_version2.2.2'\n",
    "ag12_path = path_base / 'agribalyse_12/AGRIBALYSEv1.2_Complete.xml'\n",
    "# Newer databases\n",
    "ei371_path = path_base / 'ecoinvent_371_cutoff/datasets'  \n",
    "ex381_path = path_base / 'exiobase_381_monetary/IOT_2015_pxp/'\n",
    "sut_path   = path_base / 'exiobase_SUT/data/'\n",
    "ag13_path = path_base / 'agribalyse_13/Agribalyse CSV FINAL_no links_Nov2016v3.CSV'\n",
    "habe_path = path_base / 'HABE_2017/'\n",
    "\n",
    "co_path = 'data/es8b01452_si_002.xlsx'\n",
    "ex381_name = \"Exiobase 3.8.1 Monetary 2015\"\n",
    "\n",
    "# Define which versions of databases to use\n",
    "ei371_name = 'ecoinvent 3.7.1 cutoff'\n",
    "ei_option = \"371\"\n",
    "if ei_option == \"371\":\n",
    "    ei_name = ei371_name\n",
    "    ei_path = ei371_path\n",
    "    \n",
    "ex_name = ex381_name\n",
    "ex_path = ex381_path"
   ]
  },
  {
   "cell_type": "code",
   "execution_count": null,
   "metadata": {},
   "outputs": [],
   "source": [
    "project = \"GSA for protocol\"\n",
    "bd.projects.set_current(project)\n",
    "\n",
    "co_name = CONSUMPTION_DB_NAME\n",
    "\n",
    "bi.bw2setup()\n",
    "import_ecoinvent(ei_path, ei_name)\n",
    "create_ecoinvent_33_project(ei33_path)\n",
    "exclude_dbs = [\n",
    "    'heia', \n",
    "    'Agribalyse 1.2',\n",
    "    'Agribalyse 1.3 - {}'.format(ei_name),\n",
    "    'exiobase 2.2'\n",
    "]\n",
    "co = import_consumption_db(\n",
    "    co_path, \n",
    "    habe_path, \n",
    "    exclude_dbs=exclude_dbs, \n",
    "    ei_name=ei_name, \n",
    "    ex_path=ex_path,\n",
    "    sut_path=sut_path,\n",
    ")\n",
    "add_consumption_activities(co_name, habe_path, habe_year='151617', option='aggregated',)\n",
    "add_consumption_categories(co_name, co_path)\n",
    "add_consumption_sectors(co_name)"
   ]
  }
 ],
 "metadata": {
  "kernelspec": {
   "display_name": "Python 3",
   "language": "python",
   "name": "python3"
  },
  "language_info": {
   "codemirror_mode": {
    "name": "ipython",
    "version": 3
   },
   "file_extension": ".py",
   "mimetype": "text/x-python",
   "name": "python",
   "nbconvert_exporter": "python",
   "pygments_lexer": "ipython3",
   "version": "3.8.10"
  },
  "varInspector": {
   "cols": {
    "lenName": 16,
    "lenType": 16,
    "lenVar": 40
   },
   "kernels_config": {
    "python": {
     "delete_cmd_postfix": "",
     "delete_cmd_prefix": "del ",
     "library": "var_list.py",
     "varRefreshCmd": "print(var_dic_list())"
    },
    "r": {
     "delete_cmd_postfix": ") ",
     "delete_cmd_prefix": "rm(",
     "library": "var_list.r",
     "varRefreshCmd": "cat(var_dic_list()) "
    }
   },
   "types_to_exclude": [
    "module",
    "function",
    "builtin_function_or_method",
    "instance",
    "_Feature"
   ],
   "window_display": false
  }
 },
 "nbformat": 4,
 "nbformat_minor": 4
}
