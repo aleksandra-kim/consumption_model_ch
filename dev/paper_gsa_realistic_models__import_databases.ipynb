{
 "cells": [
  {
   "cell_type": "code",
   "execution_count": 3,
   "metadata": {},
   "outputs": [
    {
     "ename": "ImportError",
     "evalue": "attempted relative import with no known parent package",
     "output_type": "error",
     "traceback": [
      "\u001b[0;31m---------------------------------------------------------------------------\u001b[0m",
      "\u001b[0;31mImportError\u001b[0m                               Traceback (most recent call last)",
      "\u001b[0;32m/var/folders/mf/xg26zj4n7sg00qbjlfk7p9qr0000gn/T/ipykernel_45526/1855129649.py\u001b[0m in \u001b[0;36m<module>\u001b[0;34m\u001b[0m\n\u001b[1;32m      8\u001b[0m \u001b[0;34m\u001b[0m\u001b[0m\n\u001b[1;32m      9\u001b[0m \u001b[0;31m#Local files\u001b[0m\u001b[0;34m\u001b[0m\u001b[0;34m\u001b[0m\u001b[0m\n\u001b[0;32m---> 10\u001b[0;31m \u001b[0;32mfrom\u001b[0m \u001b[0;34m.\u001b[0m\u001b[0mimport_databases\u001b[0m \u001b[0;32mimport\u001b[0m \u001b[0;34m*\u001b[0m\u001b[0;34m\u001b[0m\u001b[0;34m\u001b[0m\u001b[0m\n\u001b[0m",
      "\u001b[0;31mImportError\u001b[0m: attempted relative import with no known parent package"
     ]
    }
   ],
   "source": [
    "import bw2data as bd\n",
    "import bw2calc as bc\n",
    "import bw2io as bi\n",
    "\n",
    "import numpy as np\n",
    "import json, os\n",
    "from pathlib import Path\n",
    "\n",
    "#Local files\n",
    "from .import_databases import *"
   ]
  },
  {
   "cell_type": "code",
   "execution_count": null,
   "metadata": {},
   "outputs": [],
   "source": [
    "with open('global_settings.json', 'rb') as f:\n",
    "    settings = json.load(f)\n",
    "which_pc = settings['which_pc']\n",
    "which_pc"
   ]
  },
  {
   "cell_type": "markdown",
   "metadata": {},
   "source": [
    "### TODO -> give paths to databases files"
   ]
  },
  {
   "cell_type": "code",
   "execution_count": null,
   "metadata": {},
   "outputs": [],
   "source": [
    "if which_pc == 'local':\n",
    "    path_base = Path('/Users/akim/Documents/LCA_files/')\n",
    "elif which_pc == 'merlin':\n",
    "    path_base = Path('/data/user/kim_a/LCA_files/')\n",
    "    \n",
    "ei33_path = path_base / 'ecoinvent_33_cutoff/datasets'  \n",
    "ei38_path = path_base / 'ecoinvent_38_cutoff/datasets' \n",
    "ei38_name = 'ecoinvent 3.8 cutoff'\n",
    "habe_path = path_base / 'HABE_2017/'\n",
    "co_path = 'data/es8b01452_si_002.xlsx'\n",
    "\n",
    "project = \"GSA for realistic models\"\n",
    "bd.projects.set_current(project)"
   ]
  },
  {
   "cell_type": "code",
   "execution_count": null,
   "metadata": {},
   "outputs": [],
   "source": [
    "co_name = CONSUMPTION_DB_NAME\n",
    "\n",
    "#     bw-migrations             0.1                      pypi_0    pypi\n",
    "#     bw2analyzer               0.10                     pypi_0    pypi\n",
    "#     bw2calc                   1.8.0                    pypi_0    pypi\n",
    "#     bw2data                   3.6.2                    pypi_0    pypi\n",
    "#     bw2io                     0.8.3.1                  pypi_0    pypi\n",
    "#     bw2parameters             0.6.6                    pypi_0    pypi\n",
    "\n",
    "bi.bw2setup()\n",
    "import_ecoinvent(ei38_path, ei38_name)\n",
    "create_ecoinvent_33_project(ei33_path)\n",
    "exclude_dbs = [\n",
    "    'heia', \n",
    "    'Agribalyse 1.2',\n",
    "    'Agribalyse 1.3 - {}'.format(ei_name),\n",
    "    'exiobase 2.2'\n",
    "]\n",
    "# co = import_consumption_db(\n",
    "#     co_path, \n",
    "#     habe_path, \n",
    "#     exclude_dbs=exclude_dbs, \n",
    "#     ei_name=ei_name, \n",
    "# )\n",
    "# add_consumption_activities(co_name, habe_path, habe_year='151617', option='aggregated',)\n",
    "# add_consumption_categories(co_name, co_path)\n",
    "# add_consumption_sectors(co_name)\n",
    "\n"
   ]
  }
 ],
 "metadata": {
  "kernelspec": {
   "display_name": "Python 3 (ipykernel)",
   "language": "python",
   "name": "python3"
  },
  "language_info": {
   "codemirror_mode": {
    "name": "ipython",
    "version": 3
   },
   "file_extension": ".py",
   "mimetype": "text/x-python",
   "name": "python",
   "nbconvert_exporter": "python",
   "pygments_lexer": "ipython3",
   "version": "3.9.7"
  },
  "varInspector": {
   "cols": {
    "lenName": 16,
    "lenType": 16,
    "lenVar": 40
   },
   "kernels_config": {
    "python": {
     "delete_cmd_postfix": "",
     "delete_cmd_prefix": "del ",
     "library": "var_list.py",
     "varRefreshCmd": "print(var_dic_list())"
    },
    "r": {
     "delete_cmd_postfix": ") ",
     "delete_cmd_prefix": "rm(",
     "library": "var_list.r",
     "varRefreshCmd": "cat(var_dic_list()) "
    }
   },
   "types_to_exclude": [
    "module",
    "function",
    "builtin_function_or_method",
    "instance",
    "_Feature"
   ],
   "window_display": false
  }
 },
 "nbformat": 4,
 "nbformat_minor": 4
}
