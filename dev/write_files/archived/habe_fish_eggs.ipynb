{
 "cells": [
  {
   "cell_type": "code",
   "execution_count": null,
   "metadata": {},
   "outputs": [],
   "source": [
    "import numpy as np\n",
    "from pathlib import Path\n",
    "import pandas as pd\n",
    "\n",
    "which_pc = 'local'\n",
    "if which_pc == 'local':\n",
    "    habe_path = '/Users/akim/Documents/LCA_files/HABE_2017/'\n",
    "elif which_pc == 'merlin':\n",
    "    habe_path = '/data/user/kim_a/LCA_files/HABE_2017'\n",
    "habe_path = Path(habe_path)\n",
    "    \n",
    "filepath11 = habe_path / \"HABE091011_Datenbeschreibung_161128UOe.xlsx\"\n",
    "filepath14 = habe_path / \"HABE121314_Datenbeschreibung_161128UOe.xlsx\"\n",
    "filepath17 = habe_path / \"HABE151617_Datenbeschreibung_191111UOe.xlsx\"\n"
   ]
  },
  {
   "cell_type": "code",
   "execution_count": null,
   "metadata": {},
   "outputs": [],
   "source": [
    "def get_categories(filepath):\n",
    "    sheet_name = \"Ausgaben\"\n",
    "    df_raw = pd.read_excel(filepath, sheet_name=sheet_name, header=10).dropna(how='all')[:-2]\n",
    "    df = df_raw['Variablenbezeichnung'].map(str) + \\\n",
    "           '-' + df_raw['Unnamed: 1'].map(str) + \\\n",
    "           '-' + df_raw['Unnamed: 2'].map(str) + \\\n",
    "           '-' + df_raw['Unnamed: 3'].map(str) + \\\n",
    "           '-' + df_raw['Unnamed: 4'].map(str)\n",
    "    return df.values\n",
    "df11_ausgaben = get_categories(filepath11)\n",
    "df14_ausgaben = get_categories(filepath14)\n",
    "df17_ausgaben = get_categories(filepath17)\n",
    "print(len(df11_ausgaben), len(df14_ausgaben), len(df17_ausgaben), np.all(df14_ausgaben == df17_ausgaben))\n",
    "\n",
    "# Result:\n",
    "# Missing category in 2011: \n",
    "# 3200.05 Nicht aufteilbare Einkommens- und Vermögenssteuern (Kanton und Gemeinde) [6]\n",
    "# 3200.05 Non-apportionable income and wealth taxes (canton and commune) [6]"
   ]
  },
  {
   "cell_type": "code",
   "execution_count": null,
   "metadata": {},
   "outputs": [],
   "source": [
    "def get_units(filepath):\n",
    "    sheet_name = \"Mengen\"\n",
    "    df_raw = pd.read_excel(filepath, sheet_name=sheet_name, header=10).dropna(how='all')[:-2]\n",
    "    df = df_raw['Variablenname'].map(str) + \\\n",
    "           '-' + df_raw['Unnamed: 1'].map(str) + \\\n",
    "           '-' + df_raw['Unnamed: 2'].map(str) + \\\n",
    "           '-' + df_raw['Einheit'].map(str)\n",
    "    return df.values\n",
    "df11_units = get_units(filepath11)\n",
    "df14_units = get_units(filepath14)\n",
    "df17_units = get_units(filepath17)\n",
    "print(np.all(df14_units==df17_units), df11_units[df11_units!=df14_units], df14_units[df11_units!=df14_units])\n",
    "\n",
    "# Result:\n",
    "# All units are the same"
   ]
  },
  {
   "cell_type": "code",
   "execution_count": null,
   "metadata": {},
   "outputs": [],
   "source": [
    "import brightway2 as bw\n",
    "bw.projects.set_current(\"GSA for hybrid\")\n",
    "ei = bw.Database(\"ecoinvent 3.7.1 cutoff\")\n",
    "ag = bw.Database(\"Agribalyse 1.3 - ecoinvent 3.7.1 cutoff\")\n",
    "method = ('IPCC 2013', 'climate change', 'GWP 100a')\n",
    "bw.databases"
   ]
  },
  {
   "cell_type": "markdown",
   "metadata": {},
   "source": [
    "# Eggs"
   ]
  },
  {
   "cell_type": "code",
   "execution_count": null,
   "metadata": {},
   "outputs": [],
   "source": [
    "# Eggs are not included, but there's poultry\n",
    "# https://www.ecoinvent.org/support/ecoinvent-forum/topic.html?&tid=1714\n",
    "chicken_ei = [act for act in ei if \"chicken production\" in act['name'].lower()][0]\n",
    "eggs_ag = [act for act in ag if \"egg, national average, at farm gate\" in act['name'].lower()][0]\n",
    "lca_chicken = bw.LCA({chicken_ei: 1}, method)\n",
    "lca_chicken.lci()\n",
    "lca_chicken.lcia()\n",
    "score_chicken = lca_chicken.score\n",
    "lca_eggs = bw.LCA({eggs_ag: 1}, method)\n",
    "lca_eggs.lci()\n",
    "lca_eggs.lcia()\n",
    "score_eggs = lca_eggs.score\n",
    "\n",
    "print(score_eggs, score_chicken, score_eggs/score_chicken)\n",
    "# chicken_ei.as_dict()"
   ]
  },
  {
   "cell_type": "markdown",
   "metadata": {},
   "source": [
    "# Sea bass"
   ]
  },
  {
   "cell_type": "code",
   "execution_count": null,
   "metadata": {},
   "outputs": [],
   "source": [
    "seabass_ag = [act for act in ag if \n",
    "              \"Sea bass or sea bream, 200-500g, conventional, in cage, at farm gate\" == act['name']][0]\n",
    "lca_seabass = bw.LCA({seabass_ag: 1}, method)\n",
    "lca_seabass.lci()\n",
    "lca_seabass.lcia()\n",
    "score_seabass = lca_seabass.score\n",
    "\n",
    "marine_fish = [act for act in ei if \"market for marine fish\" == act['name']][0]\n",
    "lca_marine_fish = bw.LCA({marine_fish: 1}, method)\n",
    "lca_marine_fish.lci()\n",
    "lca_marine_fish.lcia()\n",
    "score_marine_fish = lca_marine_fish.score\n",
    "\n",
    "print(score_seabass, score_marine_fish, score_seabass / score_marine_fish)\n",
    "# marine_fish.as_dict()"
   ]
  },
  {
   "cell_type": "markdown",
   "metadata": {},
   "source": [
    "# Large trout"
   ]
  },
  {
   "cell_type": "code",
   "execution_count": null,
   "metadata": {},
   "outputs": [],
   "source": [
    "large_trout_ag = [act for act in ag if \n",
    "              \"Large trout, 2-4kg, conventional, at farm gate\" == act['name']][0]\n",
    "lca_large_trout = bw.LCA({large_trout_ag: 1}, method)\n",
    "lca_large_trout.lci()\n",
    "lca_large_trout.lcia()\n",
    "score_large_trout = lca_large_trout.score\n",
    "\n",
    "market_for_trout_ei = [act for act in ei if \"market for trout\" == act['name'].lower()][0]\n",
    "lca_market_for_trout = bw.LCA({market_for_trout_ei: 1}, method)\n",
    "lca_market_for_trout.lci()\n",
    "lca_market_for_trout.lcia()\n",
    "score_market_for_trout = lca_market_for_trout.score\n",
    "\n",
    "print(score_large_trout, score_market_for_trout, score_large_trout / score_market_for_trout)\n",
    "# market_for_trout_ei.as_dict()"
   ]
  },
  {
   "cell_type": "markdown",
   "metadata": {},
   "source": [
    "# Small trout"
   ]
  },
  {
   "cell_type": "code",
   "execution_count": null,
   "metadata": {},
   "outputs": [],
   "source": [
    "small_trout_ag = [act for act in ag if \n",
    "              \"Small trout, 250-350g, conventional, at farm gate\" == act['name']][0]\n",
    "lca_small_trout = bw.LCA({small_trout_ag: 1}, method)\n",
    "lca_small_trout.lci()\n",
    "lca_small_trout.lcia()\n",
    "score_small_trout = lca_small_trout.score\n",
    "\n",
    "print(score_small_trout, score_market_for_trout, score_small_trout / score_market_for_trout)"
   ]
  },
  {
   "cell_type": "code",
   "execution_count": null,
   "metadata": {},
   "outputs": [],
   "source": []
  },
  {
   "cell_type": "code",
   "execution_count": null,
   "metadata": {},
   "outputs": [],
   "source": []
  },
  {
   "cell_type": "code",
   "execution_count": null,
   "metadata": {},
   "outputs": [],
   "source": []
  },
  {
   "cell_type": "code",
   "execution_count": null,
   "metadata": {},
   "outputs": [],
   "source": []
  },
  {
   "cell_type": "code",
   "execution_count": null,
   "metadata": {},
   "outputs": [],
   "source": []
  },
  {
   "cell_type": "code",
   "execution_count": null,
   "metadata": {},
   "outputs": [],
   "source": []
  },
  {
   "cell_type": "code",
   "execution_count": null,
   "metadata": {},
   "outputs": [],
   "source": []
  },
  {
   "cell_type": "code",
   "execution_count": null,
   "metadata": {},
   "outputs": [],
   "source": []
  },
  {
   "cell_type": "code",
   "execution_count": null,
   "metadata": {},
   "outputs": [],
   "source": []
  },
  {
   "cell_type": "code",
   "execution_count": null,
   "metadata": {},
   "outputs": [],
   "source": []
  },
  {
   "cell_type": "code",
   "execution_count": null,
   "metadata": {},
   "outputs": [],
   "source": []
  },
  {
   "cell_type": "code",
   "execution_count": null,
   "metadata": {},
   "outputs": [],
   "source": []
  },
  {
   "cell_type": "code",
   "execution_count": null,
   "metadata": {},
   "outputs": [],
   "source": []
  }
 ],
 "metadata": {
  "kernelspec": {
   "display_name": "Python 3",
   "language": "python",
   "name": "python3"
  },
  "language_info": {
   "codemirror_mode": {
    "name": "ipython",
    "version": 3
   },
   "file_extension": ".py",
   "mimetype": "text/x-python",
   "name": "python",
   "nbconvert_exporter": "python",
   "pygments_lexer": "ipython3",
   "version": "3.8.8"
  },
  "varInspector": {
   "cols": {
    "lenName": 16,
    "lenType": 16,
    "lenVar": 40
   },
   "kernels_config": {
    "python": {
     "delete_cmd_postfix": "",
     "delete_cmd_prefix": "del ",
     "library": "var_list.py",
     "varRefreshCmd": "print(var_dic_list())"
    },
    "r": {
     "delete_cmd_postfix": ") ",
     "delete_cmd_prefix": "rm(",
     "library": "var_list.r",
     "varRefreshCmd": "cat(var_dic_list()) "
    }
   },
   "types_to_exclude": [
    "module",
    "function",
    "builtin_function_or_method",
    "instance",
    "_Feature"
   ],
   "window_display": false
  }
 },
 "nbformat": 4,
 "nbformat_minor": 4
}
