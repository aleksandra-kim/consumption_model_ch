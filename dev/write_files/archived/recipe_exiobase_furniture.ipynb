{
 "cells": [
  {
   "cell_type": "code",
   "execution_count": 1,
   "metadata": {},
   "outputs": [
    {
     "data": {
      "text/plain": [
       "0.0"
      ]
     },
     "execution_count": 1,
     "metadata": {},
     "output_type": "execute_result"
    }
   ],
   "source": [
    "import brightway2 as bw\n",
    "bw.projects.set_current(\"exiobase_industry_workaround\")\n",
    "ex = bw.Database('EXIOBASE 2.2')\n",
    "bi = bw.Database('biosphere3')\n",
    "furniture_act = [act for act in ex if \"Manufacture of furniture\" in act['name'] and 'US' in act['location']][0]\n",
    "method = ('ReCiPe Endpoint (H,A)', 'resources', 'total')\n",
    "\n",
    "lca = bw.LCA({furniture_act:1}, method)\n",
    "lca.lci()\n",
    "lca.lcia()\n",
    "lca.score"
   ]
  },
  {
   "cell_type": "code",
   "execution_count": 2,
   "metadata": {},
   "outputs": [
    {
     "data": {
      "text/plain": [
       "{'Aluminium, 24% in bauxite, 11% in crude ore, in ground': 0.00418402983019,\n",
       " 'Aluminium, in ground': 0.00418402983019,\n",
       " 'Chromium, 25.5% in chromite, 11.6% in crude ore, in ground': 1.15756913164,\n",
       " 'Coal, brown, in ground': 0.0283,\n",
       " 'Coal, hard, unspecified, in ground': 0.054561,\n",
       " 'Cobalt, in ground': 0.0469080296619,\n",
       " 'Copper, 0.52% in sulfide, Cu 0.27% and Mo 8.2E-3% in crude ore, in ground': 1.98197244742,\n",
       " 'Copper, 0.59% in sulfide, Cu 0.22% and Mo 8.2E-3% in crude ore, in ground': 1.98197244742,\n",
       " 'Copper, 0.97% in sulfide, Cu 0.36% and Mo 4.1E-2% in crude ore, in ground': 1.98197244742,\n",
       " 'Copper, 0.99% in sulfide, Cu 0.36% and Mo 8.2E-3% in crude ore, in ground': 1.98197244742,\n",
       " 'Copper, 1.13% in sulfide, Cu 0.76% and Ni 0.76% in crude ore, in ground': 1.98197244742,\n",
       " 'Copper, 1.18% in sulfide, Cu 0.39% and Mo 8.2E-3% in crude ore, in ground': 1.98197244742,\n",
       " 'Copper, 1.42% in sulfide, Cu 0.81% and Mo 8.2E-3% in crude ore, in ground': 1.98197244742,\n",
       " 'Copper, 2.19% in sulfide, Cu 1.83% and Mo 8.2E-3% in crude ore, in ground': 1.98197244742,\n",
       " 'Copper, Cu 0.38%, in mixed ore, in ground': 1.98197244742,\n",
       " 'Cu, Cu 3.2E+0%, Pt 2.5E-4%, Pd 7.3E-4%, Rh 2.0E-5%, Ni 2.3E+0% in ore, in ground': 1.98197244742,\n",
       " 'Cu, Cu 5.2E-2%, Pt 4.8E-4%, Pd 2.0E-4%, Rh 2.4E-5%, Ni 3.7E-2% in ore, in ground': 1.98197244742,\n",
       " 'Gas, mine, off-gas, process, coal mining': 0.1427,\n",
       " 'Gas, natural, in ground': 0.10936,\n",
       " 'Gold, Au 1.1E-4%, Ag 4.2E-3%, in ore, in ground': 3247.22866549,\n",
       " 'Gold, Au 1.3E-4%, Ag 4.6E-5%, in ore, in ground': 3247.22866549,\n",
       " 'Gold, Au 1.4E-4%, in ore, in ground': 3247.22866549,\n",
       " 'Gold, Au 2.1E-4%, Ag 2.1E-4%, in ore, in ground': 3247.22866549,\n",
       " 'Gold, Au 4.3E-4%, in ore, in ground': 3247.22866549,\n",
       " 'Gold, Au 4.9E-5%, in ore, in ground': 3247.22866549,\n",
       " 'Gold, Au 6.7E-4%, in ore, in ground': 3247.22866549,\n",
       " 'Gold, Au 7.1E-4%, in ore, in ground': 3247.22866549,\n",
       " 'Gold, Au 9.7E-4%, in mixed ore, in ground': 3247.22866549,\n",
       " 'Iron, 46% in ore, 25% in crude ore, in ground': 0.0464285714286,\n",
       " 'Iron, 72% in magnetite, 14% in crude ore, in ground': 0.464285714286,\n",
       " 'Lead, 5.0% in sulfide, Pb 3.0%, Zn, Ag, Cd, In, in ground': 0.0820156976269,\n",
       " 'Lead, Pb 0.014%, in mixed ore, in ground': 0.0820156976269,\n",
       " 'Manganese, 35.7% in sedimentary deposit, 14.2% in crude ore, in ground': 3.55709867274,\n",
       " 'Molybdenum, 0.010% in sulfide, Mo 8.2E-3% and Cu 1.83% in crude ore, in ground': 9.63433828923,\n",
       " 'Molybdenum, 0.014% in sulfide, Mo 8.2E-3% and Cu 0.81% in crude ore, in ground': 9.63433828923,\n",
       " 'Molybdenum, 0.016% in sulfide, Mo 8.2E-3% and Cu 0.27% in crude ore, in ground': 9.63433828923,\n",
       " 'Molybdenum, 0.022% in sulfide, Mo 8.2E-3% and Cu 0.22% in crude ore, in ground': 9.63433828923,\n",
       " 'Molybdenum, 0.022% in sulfide, Mo 8.2E-3% and Cu 0.36% in crude ore, in ground': 9.63433828923,\n",
       " 'Molybdenum, 0.025% in sulfide, Mo 8.2E-3% and Cu 0.39% in crude ore, in ground': 9.63433828923,\n",
       " 'Molybdenum, 0.11% in sulfide, Mo 4.1E-2% and Cu 0.36% in crude ore, in ground': 9.63433828923,\n",
       " 'Ni, Ni 2.3E+0%, Pt 2.5E-4%, Pd 7.3E-4%, Rh 2.0E-5%, Cu 3.2E+0% in ore, in ground': 0.00668,\n",
       " 'Ni, Ni 3.7E-2%, Pt 4.8E-4%, Pd 2.0E-4%, Rh 2.4E-5%, Cu 5.2E-2% in ore, in ground': 0.00668,\n",
       " 'Nickel, 1.13% in sulfide, Ni 0.76% and Cu 0.76% in crude ore, in ground': 0.581645358086,\n",
       " 'Nickel, 1.98% in silicates, 1.04% in crude ore, in ground': 0.581645358086,\n",
       " 'Oil, crude, in ground': 0.13071,\n",
       " 'Pd, Pd 2.0E-4%, Pt 4.8E-4%, Rh 2.4E-5%, Ni 3.7E-2%, Cu 5.2E-2% in ore, in ground': 176.998534659,\n",
       " 'Pd, Pd 7.3E-4%, Pt 2.5E-4%, Rh 2.0E-5%, Ni 2.3E+0%, Cu 3.2E+0% in ore, in ground': 176.998534659,\n",
       " 'Pt, Pt 2.5E-4%, Pd 7.3E-4%, Rh 2.0E-5%, Ni 2.3E+0%, Cu 3.2E+0% in ore, in ground': 7558.81278417,\n",
       " 'Pt, Pt 4.8E-4%, Pd 2.0E-4%, Rh 2.4E-5%, Ni 3.7E-2%, Cu 5.2E-2% in ore, in ground': 86.9,\n",
       " 'Rh, Rh 2.0E-5%, Pt 2.5E-4%, Pd 7.3E-4%, Ni 2.3E+0%, Cu 3.2E+0% in ore, in ground': 943.808750474,\n",
       " 'Rh, Rh 2.4E-5%, Pt 4.8E-4%, Pd 2.0E-4%, Ni 3.7E-2%, Cu 5.2E-2% in ore, in ground': 943.808750474,\n",
       " 'Silver, 0.007% in sulfide, Ag 0.004%, Pb, Zn, Cd, In, in ground': 13.2839817896,\n",
       " 'Silver, 0.01% in crude ore, in ground': 13.2839817896,\n",
       " 'Silver, 3.2ppm in sulfide, Ag 1.2ppm, Cu and Te, in crude ore, in ground': 13.2839817896,\n",
       " 'Silver, Ag 2.1E-4%, Au 2.1E-4%, in ore, in ground': 13.2839817896,\n",
       " 'Silver, Ag 4.2E-3%, Au 1.1E-4%, in ore, in ground': 13.2839817896,\n",
       " 'Silver, Ag 4.6E-5%, Au 1.3E-4%, in ore, in ground': 13.2839817896,\n",
       " 'Silver, Ag 9.7E-4%, in mixed ore, in ground': 13.2839817896,\n",
       " 'Tin, 79% in cassiterite, 0.1% in crude ore, in ground': 59.0252359803,\n",
       " 'Uranium, in ground': 5.68946528929,\n",
       " 'Zinc, 9.0% in sulfide, Zn 5.3%, Pb, Ag, Cd, In, in ground': 0.10468464245,\n",
       " 'Zinc, Zn 0.63%, in mixed ore, in ground': 0.10468464245}"
      ]
     },
     "execution_count": 2,
     "metadata": {},
     "output_type": "execute_result"
    }
   ],
   "source": [
    "# Biosphere flows and their weights from ***recipe***\n",
    "bw_method = bw.Method(method)\n",
    "bio_from_method_codes = bw_method.load()\n",
    "bio_from_method = {}\n",
    "for el in bio_from_method_codes:\n",
    "    bio_from_method.update({\n",
    "        bw.get_activity(el[0])['name']: el[1]\n",
    "    })\n",
    "bio_from_method"
   ]
  },
  {
   "cell_type": "code",
   "execution_count": 3,
   "metadata": {
    "scrolled": false
   },
   "outputs": [
    {
     "data": {
      "text/plain": [
       "{'Arsenic': 0.04011507117803164,\n",
       " 'Benzo(a)pyrene': 0.016138121910241658,\n",
       " 'Benzo(b)fluoranthene': 0.01360533055716102,\n",
       " 'Benzo(k)fluoranthene': 0.01360533055716102,\n",
       " 'Methane, fossil': 1088.59692032466,\n",
       " 'Carbon monoxide, fossil': 996.9689798287598,\n",
       " 'Carbon dioxide, fossil': 438.69694829978494,\n",
       " 'Cadmium': 0.012023248379476171,\n",
       " 'Chromium': 0.1325395019687227,\n",
       " 'Copper': 0.0227247562137812,\n",
       " 'Benzene, hexachloro-': 0.0,\n",
       " 'Mercury': 0.004940682326362619,\n",
       " 'Indeno(1,2,3-cd)pyrene': 0.004151980919714131,\n",
       " 'Dinitrogen monoxide': 20.369656596897364,\n",
       " 'Ammonia': 3.662065986972353,\n",
       " 'NMVOC, non-methane volatile organic compounds, unspecified origin': 1371.4522059323353,\n",
       " 'Nitrogen oxides': 33.72266102003201,\n",
       " 'Nickel': 0.039861269279215655,\n",
       " 'Nitrogen': 6.409545130830384,\n",
       " 'PAH, polycyclic aromatic hydrocarbons': 0.5135407986628795,\n",
       " 'Polychlorinated biphenyls': 0.00044823860673406533,\n",
       " 'Dioxins, measured as 2,3,7,8-tetrachlorodibenzo-p-dioxin': 3.154873823813176e-08,\n",
       " 'Particulates, > 2.5 um, and < 10um': 21.082292206410486,\n",
       " 'Particulates, < 2.5 um': 14.472942040135498,\n",
       " 'Lead': 0.39704818066060565,\n",
       " 'Phosphorus': 4.028488340732487,\n",
       " 'Sulfur hexafluoride': 0.053202396081019517,\n",
       " 'Sulfur oxides': 76.62467744681445,\n",
       " 'Selenium': 0.0016573148484177902,\n",
       " 'Particulates, > 10 um': 34.036566325678166,\n",
       " 'Zinc': 0.22001513250104934,\n",
       " 'Occupation, annual crop': 6571.108736394807,\n",
       " 'Occupation, forest, unspecified': 3461843.019888489,\n",
       " 'Occupation, pasture, man made': 324585.7783546717}"
      ]
     },
     "execution_count": 3,
     "metadata": {},
     "output_type": "execute_result"
    }
   ],
   "source": [
    "# Exchanges from ***furniture demand***\n",
    "furniture_exchanges = {}\n",
    "for exc in list(furniture_act.exchanges()):\n",
    "    furniture_exchanges.update({(exc.input['name']): exc.amount})\n",
    "furniture_exchanges"
   ]
  },
  {
   "cell_type": "code",
   "execution_count": 4,
   "metadata": {},
   "outputs": [
    {
     "data": {
      "text/plain": [
       "{'Occupation, annual crop': 79875.79179382324,\n",
       " 'Occupation, forest, unspecified': 3461843.0,\n",
       " 'Occupation, pasture, man made': 324585.78125,\n",
       " 'Ammonia': 24.751001834869385,\n",
       " 'Arsenic': 0.9607412926852703,\n",
       " 'Benzene, hexachloro-': 5.953756044618785e-06,\n",
       " 'Benzo(a)pyrene': 0.19104035198688507,\n",
       " 'Cadmium': 0.07206004578620195,\n",
       " 'Carbon dioxide, fossil': 660588.2487182617,\n",
       " 'Carbon monoxide, fossil': 5258.856689453125,\n",
       " 'Chromium': 0.17444635927677155,\n",
       " 'Copper': 1.0776505563408136,\n",
       " 'Dinitrogen monoxide': 55.09036445617676,\n",
       " 'Dioxins, measured as 2,3,7,8-tetrachlorodibenzo-p-dioxin': 3.8218705356030114e-07,\n",
       " 'Lead': 0.5141026824712753,\n",
       " 'Mercury': 0.04883421352133155,\n",
       " 'Methane, fossil': 1125.4886093139648,\n",
       " 'Nickel': 0.39935270696878433,\n",
       " 'Nitrogen oxides': 1948.8334999084473,\n",
       " 'NMVOC, non-methane volatile organic compounds, unspecified origin': 2138.36767578125,\n",
       " 'PAH, polycyclic aromatic hydrocarbons': 0.5135408043861389,\n",
       " 'Particulates, < 2.5 um': 233.72057723999023,\n",
       " 'Particulates, > 10 um': 389.9401626586914,\n",
       " 'Particulates, > 2.5 um, and < 10um': 310.2596607208252,\n",
       " 'Polychlorinated biphenyls': 0.0009059402800630778,\n",
       " 'Selenium': 0.06371881463564932,\n",
       " 'Sulfur hexafluoride': 0.053202394396066666,\n",
       " 'Zinc': 0.5414955615997314,\n",
       " 'Nitrogen': 152.89889115095139,\n",
       " 'Phosphorus': 13.588728427886963,\n",
       " 'Sulfur oxides': 1710.9463348388672,\n",
       " 'Benzo(b)fluoranthene': 0.23309706524014473,\n",
       " 'Benzo(k)fluoranthene': 0.0429651103913784,\n",
       " 'Indeno(1,2,3-cd)pyrene': 0.02881501568481326}"
      ]
     },
     "execution_count": 4,
     "metadata": {},
     "output_type": "execute_result"
    }
   ],
   "source": [
    "# Biosphere flows and their weights from ***furniture demand***\n",
    "from pypardiso import spsolve\n",
    "bio_weights_from_demand = lca.biosphere_matrix*spsolve(lca.technosphere_matrix, lca.demand_array)\n",
    "bio_from_demand = {}\n",
    "for i,bio_code in enumerate(lca.reverse_dict()[2].values()):\n",
    "    bio_from_demand.update({bw.get_activity(bio_code)['name']: bio_weights_from_demand[i]})\n",
    "bio_from_demand"
   ]
  },
  {
   "cell_type": "code",
   "execution_count": null,
   "metadata": {},
   "outputs": [],
   "source": []
  },
  {
   "cell_type": "code",
   "execution_count": null,
   "metadata": {},
   "outputs": [],
   "source": []
  },
  {
   "cell_type": "code",
   "execution_count": null,
   "metadata": {},
   "outputs": [],
   "source": []
  },
  {
   "cell_type": "code",
   "execution_count": null,
   "metadata": {},
   "outputs": [],
   "source": []
  }
 ],
 "metadata": {
  "kernelspec": {
   "display_name": "Python 3",
   "language": "python",
   "name": "python3"
  },
  "language_info": {
   "codemirror_mode": {
    "name": "ipython",
    "version": 3
   },
   "file_extension": ".py",
   "mimetype": "text/x-python",
   "name": "python",
   "nbconvert_exporter": "python",
   "pygments_lexer": "ipython3",
   "version": "3.8.6"
  },
  "varInspector": {
   "cols": {
    "lenName": 16,
    "lenType": 16,
    "lenVar": 40
   },
   "kernels_config": {
    "python": {
     "delete_cmd_postfix": "",
     "delete_cmd_prefix": "del ",
     "library": "var_list.py",
     "varRefreshCmd": "print(var_dic_list())"
    },
    "r": {
     "delete_cmd_postfix": ") ",
     "delete_cmd_prefix": "rm(",
     "library": "var_list.r",
     "varRefreshCmd": "cat(var_dic_list()) "
    }
   },
   "types_to_exclude": [
    "module",
    "function",
    "builtin_function_or_method",
    "instance",
    "_Feature"
   ],
   "window_display": false
  }
 },
 "nbformat": 4,
 "nbformat_minor": 4
}
