{
 "cells": [
  {
   "cell_type": "code",
   "execution_count": 10,
   "metadata": {},
   "outputs": [],
   "source": [
    "import brightway2 as bw\n",
    "import numpy as np\n",
    "import json, os\n",
    "\n",
    "#Local files\n",
    "from import_databases import *"
   ]
  },
  {
   "cell_type": "code",
   "execution_count": 11,
   "metadata": {},
   "outputs": [],
   "source": [
    "# Older databases\n",
    "ei33_path = '/Users/akim/Documents/LCA_files/ecoinvent 3.3 cutoff/datasets'  \n",
    "# Newer databases\n",
    "ei35_path = '/Users/akim/Documents/LCA_files/ecoinvent 3.5 cutoff/datasets'  \n",
    "# Household budget survey\n",
    "habe_path = '/Users/akim/Documents/LCA_files/HABE_2017/'\n",
    "co_path = 'data/es8b01452_si_002.xlsx'"
   ]
  },
  {
   "cell_type": "code",
   "execution_count": 12,
   "metadata": {},
   "outputs": [],
   "source": [
    "project = \"consumption ei35\"\n",
    "bw.projects.set_current(project)"
   ]
  },
  {
   "cell_type": "code",
   "execution_count": 13,
   "metadata": {},
   "outputs": [
    {
     "name": "stdout",
     "output_type": "stream",
     "text": [
      "Biosphere database already present!!! No setup is needed\n",
      "ecoinvent 3.5 cutoff database already present!!! No import is needed\n",
      "Biosphere database already present!!! No setup is needed\n",
      "ecoinvent 3.3 cutoff database already present!!! No import is needed\n"
     ]
    }
   ],
   "source": [
    "# Import biosphere, ecoinvent 35, ecoinvent 33\n",
    "bw.bw2setup()\n",
    "ei35_name = 'ecoinvent 3.5 cutoff'\n",
    "import_ecoinvent(ei35_path, ei35_name)\n",
    "create_ecoinvent_33_project(ei33_path)"
   ]
  },
  {
   "cell_type": "code",
   "execution_count": 14,
   "metadata": {},
   "outputs": [
    {
     "name": "stdout",
     "output_type": "stream",
     "text": [
      "Extracted 1 worksheets in 0.15 seconds\n",
      "Applying strategy: csv_restore_tuples\n",
      "Applying strategy: csv_restore_booleans\n",
      "Applying strategy: csv_numerize\n",
      "Applying strategy: csv_drop_unknown\n",
      "Applying strategy: csv_add_missing_exchanges_section\n",
      "Applying strategy: normalize_units\n",
      "Applying strategy: normalize_biosphere_categories\n",
      "Applying strategy: normalize_biosphere_names\n",
      "Applying strategy: strip_biosphere_exc_locations\n",
      "Applying strategy: set_code_by_activity_hash\n",
      "Applying strategy: link_iterable_by_fields\n",
      "Applying strategy: assign_only_product_as_production\n",
      "Applying strategy: link_technosphere_by_activity_hash\n",
      "Applying strategy: drop_falsey_uncertainty_fields_but_keep_zeros\n",
      "Applying strategy: convert_uncertainty_types_to_integers\n",
      "Applying strategy: convert_activity_parameters_to_list\n",
      "Applied 16 strategies in 0.16 seconds\n",
      "Applying strategy: link_iterable_by_fields\n",
      "Migration for 'steam production in chemical industry' and 'market for green bell pepper'\n",
      "Applying strategy: migrate_datasets\n",
      "Applying strategy: migrate_exchanges\n",
      "Applying strategy: link_iterable_by_fields\n",
      "203 datasets\n",
      "834 exchanges\n",
      "0 unlinked exchanges\n",
      "  \n"
     ]
    },
    {
     "name": "stderr",
     "output_type": "stream",
     "text": [
      "Writing activities to SQLite3 database:\n",
      "0% [##############################] 100% | ETA: 00:00:00\n",
      "Total time elapsed: 00:00:00\n"
     ]
    },
    {
     "name": "stdout",
     "output_type": "stream",
     "text": [
      "Title: Writing activities to SQLite3 database:\n",
      "  Started: 10/15/2020 17:56:05\n",
      "  Finished: 10/15/2020 17:56:05\n",
      "  Total time elapsed: 00:00:00\n",
      "  CPU %: 105.40\n",
      "  Memory %: 2.35\n",
      "Created database: CH consumption 1.0\n"
     ]
    },
    {
     "data": {
      "text/plain": [
       "203"
      ]
     },
     "execution_count": 14,
     "metadata": {},
     "output_type": "execute_result"
    }
   ],
   "source": [
    "# Consumption DB\n",
    "co_name = CONSUMPTION_DB_NAME\n",
    "if co_name in bw.databases:\n",
    "    del bw.databases[co_name]\n",
    "import_consumption_db(\n",
    "    co_path, \n",
    "    habe_path, \n",
    "    exclude_dbs = [\n",
    "        'heia', \n",
    "        'EXIOBASE 2.2',\n",
    "        'Agribalyse 1.2',\n",
    "        'Agribalyse 1.3 - ecoinvent 3.5 cutoff',\n",
    "    ],\n",
    "    ei_name=ei35_name,\n",
    ")\n",
    "\n",
    "co = bw.Database('CH consumption 1.0')\n",
    "len(co)"
   ]
  },
  {
   "cell_type": "code",
   "execution_count": 15,
   "metadata": {},
   "outputs": [
    {
     "data": {
      "text/plain": [
       "205"
      ]
     },
     "execution_count": 15,
     "metadata": {},
     "output_type": "execute_result"
    }
   ],
   "source": [
    "# Add average consumption as a functional unit\n",
    "add_consumption_activities(co_name, habe_path)\n",
    "len(co)"
   ]
  },
  {
   "cell_type": "code",
   "execution_count": 16,
   "metadata": {},
   "outputs": [
    {
     "data": {
      "text/plain": [
       "'ch hh average consumption' (1 month of consumption, CH, None)"
      ]
     },
     "execution_count": 16,
     "metadata": {},
     "output_type": "execute_result"
    }
   ],
   "source": [
    "# LCA\n",
    "co = bw.Database('CH consumption 1.0')\n",
    "act = co.search('average')[0]\n",
    "demand = {act: 1}\n",
    "method = ('IPCC 2013', 'climate change', 'GTP 100a')\n",
    "act"
   ]
  },
  {
   "cell_type": "code",
   "execution_count": 17,
   "metadata": {},
   "outputs": [
    {
     "data": {
      "text/plain": [
       "[Exchange: 1 1 month of consumption 'ch hh average consumption' (1 month of consumption, CH, None) to 'ch hh average consumption' (1 month of consumption, CH, None)>,\n",
       " Exchange: 201.46845215493406 CHF 'Other insurance premiums' (CHF, CH, None) to 'ch hh average consumption' (1 month of consumption, CH, None)>,\n",
       " Exchange: 76.54080218942872 CHF 'Fees' (CHF, CH, None) to 'ch hh average consumption' (1 month of consumption, CH, None)>,\n",
       " Exchange: 2.6523185730240124 kilogram 'Rice' (kilogram, CH, None) to 'ch hh average consumption' (1 month of consumption, CH, None)>,\n",
       " Exchange: 10.258710269091356 kilogram 'Pasta products' (kilogram, CH, None) to 'ch hh average consumption' (1 month of consumption, CH, None)>,\n",
       " Exchange: 31.169177290477347 kilogram 'Bread' (kilogram, CH, None) to 'ch hh average consumption' (1 month of consumption, CH, None)>,\n",
       " Exchange: 46.03483906003796 kilogram 'Bakery products (sweet and salty)' (kilogram, CH, None) to 'ch hh average consumption' (1 month of consumption, CH, None)>,\n",
       " Exchange: 2.96203564798639 kilogram 'Sandwich' (kilogram, CH, None) to 'ch hh average consumption' (1 month of consumption, CH, None)>,\n",
       " Exchange: 1.5632126260770978 kilogram 'Wheat flour' (kilogram, CH, None) to 'ch hh average consumption' (1 month of consumption, CH, None)>,\n",
       " Exchange: 2.3838892509305865 kilogram 'Other flours and meals, starches, semolina, flakes and grains' (kilogram, CH, None) to 'ch hh average consumption' (1 month of consumption, CH, None)>,\n",
       " Exchange: 11.610410642488288 kilogram 'Other cereal products' (kilogram, CH, None) to 'ch hh average consumption' (1 month of consumption, CH, None)>,\n",
       " Exchange: 23.888668292785425 kilogram 'Beef' (kilogram, CH, None) to 'ch hh average consumption' (1 month of consumption, CH, None)>,\n",
       " Exchange: 9.918235002986313 kilogram 'Veal' (kilogram, CH, None) to 'ch hh average consumption' (1 month of consumption, CH, None)>,\n",
       " Exchange: 19.597376628447645 kilogram 'Pork, fresh or frozen' (kilogram, CH, None) to 'ch hh average consumption' (1 month of consumption, CH, None)>,\n",
       " Exchange: 1.723098491142286 kilogram 'Horse meat' (kilogram, CH, None) to 'ch hh average consumption' (1 month of consumption, CH, None)>,\n",
       " Exchange: 4.798924975545264 kilogram 'Sheep and Goat meat' (kilogram, CH, None) to 'ch hh average consumption' (1 month of consumption, CH, None)>,\n",
       " Exchange: 21.784384524822826 kilogram 'Poultry, fresh or frozen' (kilogram, CH, None) to 'ch hh average consumption' (1 month of consumption, CH, None)>,\n",
       " Exchange: 1.9925885412409894 kilogram 'Hare, game and rabbit meat' (kilogram, CH, None) to 'ch hh average consumption' (1 month of consumption, CH, None)>,\n",
       " Exchange: 9.526423902548714 kilogram 'Other eatable meat products incl. offal, fresh and frozen' (kilogram, CH, None) to 'ch hh average consumption' (1 month of consumption, CH, None)>,\n",
       " Exchange: 32.736452871721795 kilogram 'Sausages, cold meat and pies' (kilogram, CH, None) to 'ch hh average consumption' (1 month of consumption, CH, None)>,\n",
       " Exchange: 20.571594796120035 kilogram 'Ham, bacon and other cured or smoked pork' (kilogram, CH, None) to 'ch hh average consumption' (1 month of consumption, CH, None)>,\n",
       " Exchange: 1.460221210234323 kilogram 'Poultry, grilled or smoked' (kilogram, CH, None) to 'ch hh average consumption' (1 month of consumption, CH, None)>,\n",
       " Exchange: 6.807338245132771 kilogram 'Other boiled, dried, cured or smoked meat' (kilogram, CH, None) to 'ch hh average consumption' (1 month of consumption, CH, None)>,\n",
       " Exchange: 1.3602882287883173 kilogram 'Tinned meat and other meat-based preparations' (kilogram, CH, None) to 'ch hh average consumption' (1 month of consumption, CH, None)>,\n",
       " Exchange: 21.88084128170074 kilogram 'Fish' (kilogram, CH, None) to 'ch hh average consumption' (1 month of consumption, CH, None)>,\n",
       " Exchange: 10.18356918198929 litre 'Whole milk' (litre, CH, None) to 'ch hh average consumption' (1 month of consumption, CH, None)>,\n",
       " Exchange: 6.452002189807776 litre 'Skimmed and low-fat milk' (litre, CH, None) to 'ch hh average consumption' (1 month of consumption, CH, None)>,\n",
       " Exchange: 32.790849147789984 kilogram 'Hard and semi-hard cheese' (kilogram, CH, None) to 'ch hh average consumption' (1 month of consumption, CH, None)>,\n",
       " Exchange: 16.15978927236695 kilogram 'Fresh, soft and melted cheese' (kilogram, CH, None) to 'ch hh average consumption' (1 month of consumption, CH, None)>,\n",
       " Exchange: 7.94657610378655 litre 'Cream' (litre, CH, None) to 'ch hh average consumption' (1 month of consumption, CH, None)>,\n",
       " Exchange: 2.072782824165153 kilogram 'Curd' (kilogram, CH, None) to 'ch hh average consumption' (1 month of consumption, CH, None)>,\n",
       " Exchange: 14.916639702749023 kilogram 'Yoghurt' (kilogram, CH, None) to 'ch hh average consumption' (1 month of consumption, CH, None)>,\n",
       " Exchange: 6.394185819232895 litre 'Milk-based beverages and other similar milk-based products' (litre, CH, None) to 'ch hh average consumption' (1 month of consumption, CH, None)>,\n",
       " Exchange: 9.129392882033821 kilogram 'Fresh eggs' (kilogram, CH, None) to 'ch hh average consumption' (1 month of consumption, CH, None)>,\n",
       " Exchange: 0.8928952539848363 kilogram 'Processed eggs' (kilogram, CH, None) to 'ch hh average consumption' (1 month of consumption, CH, None)>,\n",
       " Exchange: 8.548184197488892 kilogram 'Butter' (kilogram, CH, None) to 'ch hh average consumption' (1 month of consumption, CH, None)>,\n",
       " Exchange: 1.354510411246915 kilogram 'Margarine' (kilogram, CH, None) to 'ch hh average consumption' (1 month of consumption, CH, None)>,\n",
       " Exchange: 0.46626821395990325 kilogram 'Other vegetable fats' (kilogram, CH, None) to 'ch hh average consumption' (1 month of consumption, CH, None)>,\n",
       " Exchange: 3.6496982660027695 litre 'Olive oil' (litre, CH, None) to 'ch hh average consumption' (1 month of consumption, CH, None)>,\n",
       " Exchange: 2.5735155286732225 litre 'Other vegetable oils and edible animal fats' (litre, CH, None) to 'ch hh average consumption' (1 month of consumption, CH, None)>,\n",
       " Exchange: 1.1741544413813254 kilogram 'Lemons' (kilogram, CH, None) to 'ch hh average consumption' (1 month of consumption, CH, None)>,\n",
       " Exchange: 5.778034349696745 kilogram 'Oranges and other citrus fruits' (kilogram, CH, None) to 'ch hh average consumption' (1 month of consumption, CH, None)>,\n",
       " Exchange: 4.56290933643303 kilogram 'Banana' (kilogram, CH, None) to 'ch hh average consumption' (1 month of consumption, CH, None)>,\n",
       " Exchange: 8.197958995534963 kilogram 'Apples' (kilogram, CH, None) to 'ch hh average consumption' (1 month of consumption, CH, None)>,\n",
       " Exchange: 2.41457994503688 kilogram 'Pears and quinces' (kilogram, CH, None) to 'ch hh average consumption' (1 month of consumption, CH, None)>,\n",
       " Exchange: 8.304699617064061 kilogram 'Stone fruit' (kilogram, CH, None) to 'ch hh average consumption' (1 month of consumption, CH, None)>,\n",
       " Exchange: 6.814401428871093 kilogram 'Berries' (kilogram, CH, None) to 'ch hh average consumption' (1 month of consumption, CH, None)>,\n",
       " Exchange: 2.9129063028058795 kilogram 'Grapes' (kilogram, CH, None) to 'ch hh average consumption' (1 month of consumption, CH, None)>,\n",
       " Exchange: 2.100057010123344 kilogram 'Melons and watermelons' (kilogram, CH, None) to 'ch hh average consumption' (1 month of consumption, CH, None)>,\n",
       " Exchange: 4.928464149772724 kilogram 'Other tropical fruits' (kilogram, CH, None) to 'ch hh average consumption' (1 month of consumption, CH, None)>,\n",
       " Exchange: 6.165879997998347 kilogram 'Nuts, other edible nuts and seeds oleaginous fruits' (kilogram, CH, None) to 'ch hh average consumption' (1 month of consumption, CH, None)>,\n",
       " Exchange: 2.7283430809674716 kilogram 'Other fried fruits' (kilogram, CH, None) to 'ch hh average consumption' (1 month of consumption, CH, None)>,\n",
       " Exchange: 2.0897493922497277 kilogram 'Preserved fruits' (kilogram, CH, None) to 'ch hh average consumption' (1 month of consumption, CH, None)>,\n",
       " Exchange: 16.01490453238721 kilogram 'Green salads and other leafy vegetables' (kilogram, CH, None) to 'ch hh average consumption' (1 month of consumption, CH, None)>,\n",
       " Exchange: 3.1401117426644647 kilogram 'Stem vegetables' (kilogram, CH, None) to 'ch hh average consumption' (1 month of consumption, CH, None)>,\n",
       " Exchange: 1.955951054227628 kilogram 'Culinary herbs' (kilogram, CH, None) to 'ch hh average consumption' (1 month of consumption, CH, None)>,\n",
       " Exchange: 3.663407744960086 kilogram 'Brassicas' (kilogram, CH, None) to 'ch hh average consumption' (1 month of consumption, CH, None)>,\n",
       " Exchange: 7.518465760372029 kilogram 'Tomatoes' (kilogram, CH, None) to 'ch hh average consumption' (1 month of consumption, CH, None)>,\n",
       " Exchange: 2.527965361922338 kilogram 'Beans and peas' (kilogram, CH, None) to 'ch hh average consumption' (1 month of consumption, CH, None)>,\n",
       " Exchange: 7.9680812400197665 kilogram 'Other fruiting vegetables' (kilogram, CH, None) to 'ch hh average consumption' (1 month of consumption, CH, None)>,\n",
       " Exchange: 1.8170806304854878 kilogram 'Onions' (kilogram, CH, None) to 'ch hh average consumption' (1 month of consumption, CH, None)>,\n",
       " Exchange: 0.5874762271720066 kilogram 'Garlic' (kilogram, CH, None) to 'ch hh average consumption' (1 month of consumption, CH, None)>,\n",
       " Exchange: 9.63248012758827 kilogram 'Beets and other root vegetables' (kilogram, CH, None) to 'ch hh average consumption' (1 month of consumption, CH, None)>,\n",
       " Exchange: 1.1352074867300894 kilogram 'Mushrooms and vegetables, dried' (kilogram, CH, None) to 'ch hh average consumption' (1 month of consumption, CH, None)>,\n",
       " Exchange: 6.891235061677162 kilogram 'Tinned or processed vegetables and mushrooms' (kilogram, CH, None) to 'ch hh average consumption' (1 month of consumption, CH, None)>,\n",
       " Exchange: 6.033823451682623 kilogram 'Potatoes' (kilogram, CH, None) to 'ch hh average consumption' (1 month of consumption, CH, None)>,\n",
       " Exchange: 7.880215016664761 kilogram 'Potatoes-based products and other tuber vegetables' (kilogram, CH, None) to 'ch hh average consumption' (1 month of consumption, CH, None)>,\n",
       " Exchange: 2.2833721630231807 kilogram 'Sugar' (kilogram, CH, None) to 'ch hh average consumption' (1 month of consumption, CH, None)>,\n",
       " Exchange: 4.091443396734369 kilogram 'Jams, marmalades, compotes' (kilogram, CH, None) to 'ch hh average consumption' (1 month of consumption, CH, None)>,\n",
       " Exchange: 2.4703724802576112 kilogram 'Honey' (kilogram, CH, None) to 'ch hh average consumption' (1 month of consumption, CH, None)>,\n",
       " Exchange: 20.07645327035221 kilogram 'Chocolate' (kilogram, CH, None) to 'ch hh average consumption' (1 month of consumption, CH, None)>,\n",
       " Exchange: 6.0312584799964535 kilogram 'Sweets and chewing gum' (kilogram, CH, None) to 'ch hh average consumption' (1 month of consumption, CH, None)>,\n",
       " Exchange: 7.197166388143938 kilogram 'Ice cream' (kilogram, CH, None) to 'ch hh average consumption' (1 month of consumption, CH, None)>,\n",
       " Exchange: 0.7141221728219951 kilogram 'Other sugary or cocoa-based foods' (kilogram, CH, None) to 'ch hh average consumption' (1 month of consumption, CH, None)>,\n",
       " Exchange: 13.618216373943342 kilogram 'Sauces, seasonings and condiments' (kilogram, CH, None) to 'ch hh average consumption' (1 month of consumption, CH, None)>,\n",
       " Exchange: 4.106321463459987 kilogram 'Soups and bouillons' (kilogram, CH, None) to 'ch hh average consumption' (1 month of consumption, CH, None)>,\n",
       " Exchange: 12.439412045953267 kilogram 'Ready-made foods' (kilogram, CH, None) to 'ch hh average consumption' (1 month of consumption, CH, None)>,\n",
       " Exchange: 0.7410636491419565 kilogram 'Vegetarian soy products' (kilogram, CH, None) to 'ch hh average consumption' (1 month of consumption, CH, None)>,\n",
       " Exchange: 18.04420683046384 kilogram 'Pure and ground coffee' (kilogram, CH, None) to 'ch hh average consumption' (1 month of consumption, CH, None)>,\n",
       " Exchange: 2.0747606585594034 kilogram 'Instant coffee and coffee surrogates' (kilogram, CH, None) to 'ch hh average consumption' (1 month of consumption, CH, None)>,\n",
       " Exchange: 3.530217697538842 kilogram 'Tea, herbal tea and surrogates' (kilogram, CH, None) to 'ch hh average consumption' (1 month of consumption, CH, None)>,\n",
       " Exchange: 1.7224072273058013 kilogram 'Cocoa-based beverages' (kilogram, CH, None) to 'ch hh average consumption' (1 month of consumption, CH, None)>,\n",
       " Exchange: 8.822640146379385 litre 'Mineral water' (litre, CH, None) to 'ch hh average consumption' (1 month of consumption, CH, None)>,\n",
       " Exchange: 13.80144134241685 litre 'Non-alcoholic soft drinks' (litre, CH, None) to 'ch hh average consumption' (1 month of consumption, CH, None)>,\n",
       " Exchange: 1.658436454717149 litre 'Syrups' (litre, CH, None) to 'ch hh average consumption' (1 month of consumption, CH, None)>,\n",
       " Exchange: 10.28825725132822 litre 'Fruit juices' (litre, CH, None) to 'ch hh average consumption' (1 month of consumption, CH, None)>,\n",
       " Exchange: 0.25743646955558874 litre 'Vegetable juices' (litre, CH, None) to 'ch hh average consumption' (1 month of consumption, CH, None)>,\n",
       " Exchange: 5.274648601976254 litre 'Spirits' (litre, CH, None) to 'ch hh average consumption' (1 month of consumption, CH, None)>,\n",
       " Exchange: 1.7963910957271318 litre 'Alcoholic and non-alcoholic liqueurs and liqueur-based aperitifs' (litre, CH, None) to 'ch hh average consumption' (1 month of consumption, CH, None)>,\n",
       " Exchange: 56.79654738487406 litre 'Wine' (litre, CH, None) to 'ch hh average consumption' (1 month of consumption, CH, None)>,\n",
       " Exchange: 8.947658180598141 litre 'Alcoholic and non-alcoholic beer' (litre, CH, None) to 'ch hh average consumption' (1 month of consumption, CH, None)>,\n",
       " Exchange: 36.39885678831573 CHF 'Tobacco' (CHF, CH, None) to 'ch hh average consumption' (1 month of consumption, CH, None)>,\n",
       " Exchange: 304.071589871411 CHF 'Restaurants, cafés and bars' (CHF, CH, None) to 'ch hh average consumption' (1 month of consumption, CH, None)>,\n",
       " Exchange: 69.94142914073956 CHF 'Self-service restaurants and take-aways' (CHF, CH, None) to 'ch hh average consumption' (1 month of consumption, CH, None)>,\n",
       " Exchange: 40.56864818257858 CHF 'Canteens' (CHF, CH, None) to 'ch hh average consumption' (1 month of consumption, CH, None)>,\n",
       " Exchange: 91.37053904713349 CHF 'Accommodation services' (CHF, CH, None) to 'ch hh average consumption' (1 month of consumption, CH, None)>,\n",
       " Exchange: 1.2790249826356277 CHF 'Clothing materials' (CHF, CH, None) to 'ch hh average consumption' (1 month of consumption, CH, None)>,\n",
       " Exchange: 57.01032586618531 CHF 'Garments for men' (CHF, CH, None) to 'ch hh average consumption' (1 month of consumption, CH, None)>,\n",
       " Exchange: 103.78980224667741 CHF 'Garments for women' (CHF, CH, None) to 'ch hh average consumption' (1 month of consumption, CH, None)>,\n",
       " Exchange: 21.04340660876946 CHF 'Garments for children (between 0 and 13 years)' (CHF, CH, None) to 'ch hh average consumption' (1 month of consumption, CH, None)>,\n",
       " Exchange: 8.739324500021791 CHF 'Clothing accessories' (CHF, CH, None) to 'ch hh average consumption' (1 month of consumption, CH, None)>,\n",
       " Exchange: 2.175972109238014 CHF 'Sewing and knitting products' (CHF, CH, None) to 'ch hh average consumption' (1 month of consumption, CH, None)>,\n",
       " Exchange: 5.230159040745236 CHF 'Cleaning, repair and hire of clothing' (CHF, CH, None) to 'ch hh average consumption' (1 month of consumption, CH, None)>,\n",
       " Exchange: 14.36700095392483 CHF 'Footwear for men' (CHF, CH, None) to 'ch hh average consumption' (1 month of consumption, CH, None)>,\n",
       " Exchange: 24.805622453438986 CHF 'Footwear for women' (CHF, CH, None) to 'ch hh average consumption' (1 month of consumption, CH, None)>,\n",
       " Exchange: 7.507923703625701 CHF 'Footwear for children and babies' (CHF, CH, None) to 'ch hh average consumption' (1 month of consumption, CH, None)>,\n",
       " Exchange: 1.6866465289810275 CHF 'Repair and hire of footwear' (CHF, CH, None) to 'ch hh average consumption' (1 month of consumption, CH, None)>,\n",
       " Exchange: 26.90483081305949 CHF 'Regular maintenance costs of principal residence' (CHF, CH, None) to 'ch hh average consumption' (1 month of consumption, CH, None)>,\n",
       " Exchange: 83.63886134012006 CHF 'Maintenance and repair of the dwelling' (CHF, CH, None) to 'ch hh average consumption' (1 month of consumption, CH, None)>,\n",
       " Exchange: 116.19756379102486 CHF 'Furniture and furnishings, carpets and other floor coverings incl. repairs' (CHF, CH, None) to 'ch hh average consumption' (1 month of consumption, CH, None)>,\n",
       " Exchange: 28.849185112901672 CHF 'Household textiles' (CHF, CH, None) to 'ch hh average consumption' (1 month of consumption, CH, None)>,\n",
       " Exchange: 17.756131137348664 CHF 'Refrigerators, dishwashers, washing machines and dryers' (CHF, CH, None) to 'ch hh average consumption' (1 month of consumption, CH, None)>,\n",
       " Exchange: 13.373551039798684 CHF 'Cookers, barbecue, space heaters and room care appliances' (CHF, CH, None) to 'ch hh average consumption' (1 month of consumption, CH, None)>,\n",
       " Exchange: 9.677652550640358 CHF 'Small electric household appliances' (CHF, CH, None) to 'ch hh average consumption' (1 month of consumption, CH, None)>,\n",
       " Exchange: 3.3778638593284054 CHF 'Repair of household appliances' (CHF, CH, None) to 'ch hh average consumption' (1 month of consumption, CH, None)>,\n",
       " Exchange: 5.939343582255905 CHF 'Glassware, tableware' (CHF, CH, None) to 'ch hh average consumption' (1 month of consumption, CH, None)>,\n",
       " Exchange: 1.1124534126783747 CHF 'Cutlery' (CHF, CH, None) to 'ch hh average consumption' (1 month of consumption, CH, None)>,\n",
       " Exchange: 9.609051986019963 CHF 'Kitchen utensils' (CHF, CH, None) to 'ch hh average consumption' (1 month of consumption, CH, None)>,\n",
       " Exchange: 4.545820176837027 CHF 'Other household utensils' (CHF, CH, None) to 'ch hh average consumption' (1 month of consumption, CH, None)>,\n",
       " Exchange: 30.048820006265007 CHF 'Tools and equipment without engines for house and garden' (CHF, CH, None) to 'ch hh average consumption' (1 month of consumption, CH, None)>,\n",
       " Exchange: 7.748351602418564 CHF 'Machines with engines for house and garden' (CHF, CH, None) to 'ch hh average consumption' (1 month of consumption, CH, None)>,\n",
       " Exchange: 20.890838725541876 CHF 'Detergents and cleaning products' (CHF, CH, None) to 'ch hh average consumption' (1 month of consumption, CH, None)>,\n",
       " Exchange: 1.248738295413303 CHF 'Cleaning articles' (CHF, CH, None) to 'ch hh average consumption' (1 month of consumption, CH, None)>,\n",
       " Exchange: 0.5318456337086404 CHF 'Plastic or paper refuse bags without fees' (CHF, CH, None) to 'ch hh average consumption' (1 month of consumption, CH, None)>,\n",
       " Exchange: 13.884252676168575 CHF 'Other non-durable household articles' (CHF, CH, None) to 'ch hh average consumption' (1 month of consumption, CH, None)>,\n",
       " Exchange: 17.751741403410715 CHF 'Domestic services and household services' (CHF, CH, None) to 'ch hh average consumption' (1 month of consumption, CH, None)>,\n",
       " Exchange: 40.82318804866054 CHF 'Medicines' (CHF, CH, None) to 'ch hh average consumption' (1 month of consumption, CH, None)>,\n",
       " Exchange: 28.147399336824595 CHF 'Glasses and contact lenses' (CHF, CH, None) to 'ch hh average consumption' (1 month of consumption, CH, None)>,\n",
       " Exchange: 7.969828314649688 CHF 'Medical products, therapeutic devices and products' (CHF, CH, None) to 'ch hh average consumption' (1 month of consumption, CH, None)>,\n",
       " Exchange: 208.08778506057706 CHF 'Medical services and hospital services' (CHF, CH, None) to 'ch hh average consumption' (1 month of consumption, CH, None)>,\n",
       " Exchange: 13.634015807265873 person kilometer 'Bicycles' (person kilometer, CH, None) to 'ch hh average consumption' (1 month of consumption, CH, None)>,\n",
       " Exchange: 121.32826405893321 litre 'Gasoline' (litre, CH, None) to 'ch hh average consumption' (1 month of consumption, CH, None)>,\n",
       " Exchange: 28.568768073990547 litre 'Diesel' (litre, CH, None) to 'ch hh average consumption' (1 month of consumption, CH, None)>,\n",
       " Exchange: 29.25912536195333 person kilometer 'Train, tickets and travelcards' (person kilometer, CH, None) to 'ch hh average consumption' (1 month of consumption, CH, None)>,\n",
       " Exchange: 2.1729234556318153 person kilometer 'Tram, tickets and travelcards' (person kilometer, CH, None) to 'ch hh average consumption' (1 month of consumption, CH, None)>,\n",
       " Exchange: 5.601754358819034 person kilometer 'Bus, tickets and travelcards' (person kilometer, CH, None) to 'ch hh average consumption' (1 month of consumption, CH, None)>,\n",
       " Exchange: 3.2842965203568975 CHF 'Taxi' (CHF, CH, None) to 'ch hh average consumption' (1 month of consumption, CH, None)>,\n",
       " Exchange: 32.708144499199136 CHF 'Air travels, tickets' (CHF, CH, None) to 'ch hh average consumption' (1 month of consumption, CH, None)>,\n",
       " Exchange: 5.050653694607338 CHF 'Passenger transport by sea and inland waterway' (CHF, CH, None) to 'ch hh average consumption' (1 month of consumption, CH, None)>,\n",
       " Exchange: 3.85326443718296 CHF 'Other purchased transport services' (CHF, CH, None) to 'ch hh average consumption' (1 month of consumption, CH, None)>,\n",
       " Exchange: 5.748700289925777 CHF 'Postal services' (CHF, CH, None) to 'ch hh average consumption' (1 month of consumption, CH, None)>,\n",
       " Exchange: 7.958197824416636 CHF 'Purchases and rent of telephones and telefax machines' (CHF, CH, None) to 'ch hh average consumption' (1 month of consumption, CH, None)>,\n",
       " Exchange: 67.44590363775642 CHF 'Fixed line' (CHF, CH, None) to 'ch hh average consumption' (1 month of consumption, CH, None)>,\n",
       " Exchange: 64.93191312080171 CHF 'Mobile telephony' (CHF, CH, None) to 'ch hh average consumption' (1 month of consumption, CH, None)>,\n",
       " Exchange: 29.978507512710415 CHF 'Services of internet providers' (CHF, CH, None) to 'ch hh average consumption' (1 month of consumption, CH, None)>,\n",
       " Exchange: 32.094214511327415 CHF 'Equipment for the reception, recording and reproduction of sound and pictures' (CHF, CH, None) to 'ch hh average consumption' (1 month of consumption, CH, None)>,\n",
       " Exchange: 8.862422136596102 CHF 'Photographic and cinematographic equipment and optical instruments' (CHF, CH, None) to 'ch hh average consumption' (1 month of consumption, CH, None)>,\n",
       " Exchange: 12.343027231153082 CHF 'Sound carriers, data carriers, videotapes and films' (CHF, CH, None) to 'ch hh average consumption' (1 month of consumption, CH, None)>,\n",
       " Exchange: 20.749242404664333 CHF 'Durable goods for recreation and sports' (CHF, CH, None) to 'ch hh average consumption' (1 month of consumption, CH, None)>,\n",
       " Exchange: 27.57496464259201 CHF 'Games, toys and hobbies' (CHF, CH, None) to 'ch hh average consumption' (1 month of consumption, CH, None)>,\n",
       " Exchange: 22.811272499420145 CHF 'Equipment for sports and camping' (CHF, CH, None) to 'ch hh average consumption' (1 month of consumption, CH, None)>,\n",
       " Exchange: 34.942967395562434 CHF 'Plants and other non-durable goods for gardening' (CHF, CH, None) to 'ch hh average consumption' (1 month of consumption, CH, None)>,\n",
       " Exchange: 21.55050572182478 CHF 'Pets and related products' (CHF, CH, None) to 'ch hh average consumption' (1 month of consumption, CH, None)>,\n",
       " Exchange: 14.896025020699147 CHF 'Veterinary and other services for pets' (CHF, CH, None) to 'ch hh average consumption' (1 month of consumption, CH, None)>,\n",
       " Exchange: 3.6942468355873763 CHF 'Entries in sports facilities' (CHF, CH, None) to 'ch hh average consumption' (1 month of consumption, CH, None)>,\n",
       " Exchange: 29.08872502880145 CHF 'Services of sports and recreational facilities, without ski lifts' (CHF, CH, None) to 'ch hh average consumption' (1 month of consumption, CH, None)>,\n",
       " Exchange: 12.638527552245398 CHF 'Tickets and season tickets for cable cars, including ski lifts' (CHF, CH, None) to 'ch hh average consumption' (1 month of consumption, CH, None)>,\n",
       " Exchange: 4.814888652665944 CHF 'Rent of sports and recreational goods' (CHF, CH, None) to 'ch hh average consumption' (1 month of consumption, CH, None)>,\n",
       " Exchange: 14.21549707678496 CHF 'Sports and crafting classes' (CHF, CH, None) to 'ch hh average consumption' (1 month of consumption, CH, None)>,\n",
       " Exchange: 13.57813646045108 CHF 'Music and dance classes' (CHF, CH, None) to 'ch hh average consumption' (1 month of consumption, CH, None)>,\n",
       " Exchange: 7.777877573205655 CHF 'Dues for sports clubs and associations' (CHF, CH, None) to 'ch hh average consumption' (1 month of consumption, CH, None)>,\n",
       " Exchange: 1.7111247545251098 CHF 'Dues for recreational associations' (CHF, CH, None) to 'ch hh average consumption' (1 month of consumption, CH, None)>,\n",
       " Exchange: 11.7777354858639 CHF 'Other leisure-time courses' (CHF, CH, None) to 'ch hh average consumption' (1 month of consumption, CH, None)>,\n",
       " Exchange: 19.453334372919343 CHF 'Theatre and concerts' (CHF, CH, None) to 'ch hh average consumption' (1 month of consumption, CH, None)>,\n",
       " Exchange: 5.009881045935443 CHF 'Cinema' (CHF, CH, None) to 'ch hh average consumption' (1 month of consumption, CH, None)>,\n",
       " Exchange: 5.050656400057359 CHF 'Museums, exhibitions, libraries, zoological gardens' (CHF, CH, None) to 'ch hh average consumption' (1 month of consumption, CH, None)>,\n",
       " Exchange: 34.96151682816863 CHF 'Fees for radio and TV reception' (CHF, CH, None) to 'ch hh average consumption' (1 month of consumption, CH, None)>,\n",
       " Exchange: 4.5557486036182215 CHF 'Subscriptions to private television' (CHF, CH, None) to 'ch hh average consumption' (1 month of consumption, CH, None)>,\n",
       " Exchange: 9.567895778645605 CHF 'Subscriptions to cable television' (CHF, CH, None) to 'ch hh average consumption' (1 month of consumption, CH, None)>,\n",
       " Exchange: 0.4340072281298643 CHF 'Rent for equipment and DVDs and CDs' (CHF, CH, None) to 'ch hh average consumption' (1 month of consumption, CH, None)>,\n",
       " Exchange: 1.8465712332676014 CHF 'Dues to cultural associations' (CHF, CH, None) to 'ch hh average consumption' (1 month of consumption, CH, None)>,\n",
       " Exchange: 6.12472801862304 CHF 'Other services in entertainment and culture' (CHF, CH, None) to 'ch hh average consumption' (1 month of consumption, CH, None)>,\n",
       " Exchange: 10.00266961912835 CHF 'Stakes' (CHF, CH, None) to 'ch hh average consumption' (1 month of consumption, CH, None)>,\n",
       " Exchange: 21.005433288633256 CHF 'Books and brochures' (CHF, CH, None) to 'ch hh average consumption' (1 month of consumption, CH, None)>,\n",
       " Exchange: 35.54693934777354 kilogram 'Newspapers and periodicals' (kilogram, CH, None) to 'ch hh average consumption' (1 month of consumption, CH, None)>,\n",
       " Exchange: 5.690613106985254 CHF 'Miscellaneous printed matter' (CHF, CH, None) to 'ch hh average consumption' (1 month of consumption, CH, None)>,\n",
       " Exchange: 9.373245723758371 CHF 'Writing and drawing materials' (CHF, CH, None) to 'ch hh average consumption' (1 month of consumption, CH, None)>,\n",
       " Exchange: 165.21959970392965 CHF 'Package holidays' (CHF, CH, None) to 'ch hh average consumption' (1 month of consumption, CH, None)>,\n",
       " Exchange: 40.80340660075785 CHF 'Education' (CHF, CH, None) to 'ch hh average consumption' (1 month of consumption, CH, None)>,\n",
       " Exchange: 3.3624820763075816 CHF 'Electrical appliances for personal care' (CHF, CH, None) to 'ch hh average consumption' (1 month of consumption, CH, None)>,\n",
       " Exchange: 4.897620728366518 CHF 'Non-electrical appliances for personal care' (CHF, CH, None) to 'ch hh average consumption' (1 month of consumption, CH, None)>,\n",
       " Exchange: 14.150847651912635 CHF 'Non-durable products of cotton and paper for personal care' (CHF, CH, None) to 'ch hh average consumption' (1 month of consumption, CH, None)>,\n",
       " Exchange: 4.6714405277311695 kilogram 'Soaps and foam baths' (kilogram, CH, None) to 'ch hh average consumption' (1 month of consumption, CH, None)>,\n",
       " Exchange: 7.232091790966683 CHF 'Hair care products' (CHF, CH, None) to 'ch hh average consumption' (1 month of consumption, CH, None)>,\n",
       " Exchange: 3.8393338723342363 CHF 'Dental care products' (CHF, CH, None) to 'ch hh average consumption' (1 month of consumption, CH, None)>,\n",
       " Exchange: 35.970180878024614 CHF 'Other products for personal care' (CHF, CH, None) to 'ch hh average consumption' (1 month of consumption, CH, None)>,\n",
       " Exchange: 57.722704410264335 CHF 'Services of hairdressers and beauty salons' (CHF, CH, None) to 'ch hh average consumption' (1 month of consumption, CH, None)>,\n",
       " Exchange: 25.372599217380163 CHF 'Jewellery, clocks and watches' (CHF, CH, None) to 'ch hh average consumption' (1 month of consumption, CH, None)>,\n",
       " Exchange: 13.103015225391268 CHF 'Luggage, leather and baby goods' (CHF, CH, None) to 'ch hh average consumption' (1 month of consumption, CH, None)>,\n",
       " Exchange: 2.554770619386237 CHF 'Other personal effects' (CHF, CH, None) to 'ch hh average consumption' (1 month of consumption, CH, None)>,\n",
       " Exchange: 23.469491541139615 CHF 'Social protection services' (CHF, CH, None) to 'ch hh average consumption' (1 month of consumption, CH, None)>,\n",
       " Exchange: 24.21240102985225 CHF 'Financial services' (CHF, CH, None) to 'ch hh average consumption' (1 month of consumption, CH, None)>,\n",
       " Exchange: 16.608545883451807 CHF 'Dues to organisations and associations' (CHF, CH, None) to 'ch hh average consumption' (1 month of consumption, CH, None)>,\n",
       " Exchange: 32.85963246256098 CHF 'Other services and losses relating to renting' (CHF, CH, None) to 'ch hh average consumption' (1 month of consumption, CH, None)>,\n",
       " Exchange: 287.5785218055231 CHF 'Premiums for life insurance' (CHF, CH, None) to 'ch hh average consumption' (1 month of consumption, CH, None)>]"
      ]
     },
     "execution_count": 17,
     "metadata": {},
     "output_type": "execute_result"
    }
   ],
   "source": [
    "list(act.exchanges())"
   ]
  },
  {
   "cell_type": "code",
   "execution_count": 18,
   "metadata": {},
   "outputs": [
    {
     "name": "stdout",
     "output_type": "stream",
     "text": [
      "CPU times: user 231 ms, sys: 38.8 ms, total: 270 ms\n",
      "Wall time: 212 ms\n"
     ]
    },
    {
     "data": {
      "text/plain": [
       "3494.756875559164"
      ]
     },
     "execution_count": 18,
     "metadata": {},
     "output_type": "execute_result"
    }
   ],
   "source": [
    "%%time\n",
    "lca = bw.LCA(demand, method)\n",
    "lca.lci()\n",
    "lca.lcia()\n",
    "lca.score"
   ]
  },
  {
   "cell_type": "code",
   "execution_count": null,
   "metadata": {},
   "outputs": [],
   "source": []
  },
  {
   "cell_type": "code",
   "execution_count": null,
   "metadata": {},
   "outputs": [],
   "source": []
  },
  {
   "cell_type": "code",
   "execution_count": null,
   "metadata": {},
   "outputs": [],
   "source": []
  }
 ],
 "metadata": {
  "kernelspec": {
   "display_name": "Python 3",
   "language": "python",
   "name": "python3"
  },
  "language_info": {
   "codemirror_mode": {
    "name": "ipython",
    "version": 3
   },
   "file_extension": ".py",
   "mimetype": "text/x-python",
   "name": "python",
   "nbconvert_exporter": "python",
   "pygments_lexer": "ipython3",
   "version": "3.7.6"
  },
  "varInspector": {
   "cols": {
    "lenName": 16,
    "lenType": 16,
    "lenVar": 40
   },
   "kernels_config": {
    "python": {
     "delete_cmd_postfix": "",
     "delete_cmd_prefix": "del ",
     "library": "var_list.py",
     "varRefreshCmd": "print(var_dic_list())"
    },
    "r": {
     "delete_cmd_postfix": ") ",
     "delete_cmd_prefix": "rm(",
     "library": "var_list.r",
     "varRefreshCmd": "cat(var_dic_list()) "
    }
   },
   "types_to_exclude": [
    "module",
    "function",
    "builtin_function_or_method",
    "instance",
    "_Feature"
   ],
   "window_display": false
  }
 },
 "nbformat": 4,
 "nbformat_minor": 4
}
